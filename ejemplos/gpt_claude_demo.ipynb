{
 "cells": [
  {
   "cell_type": "markdown",
   "metadata": {},
   "source": [
    "# Primeros pasos con las APIs de OpenAI y Anthropic\n",
    "Podes copiar el código de los diferentes bloques y ejecutarlos en un colab de google: https://colab.google/\n",
    "\n",
    "Este notebook muestra ejemplos básicos de cómo usar las APIs de:\n",
    "- OpenAI (GPT)\n",
    "- Anthropic (Claude)\n",
    "\n",
    "## Requisitos\n",
    "Para ejecutar este notebook necesitarás:\n",
    "- Tener instaladas las bibliotecas: `pip install openai anthropic`\n",
    "- Tener las claves de API configuradas como variables de entorno:\n",
    "  - OPENAI_API_KEY\n",
    "  - ANTHROPIC_API_KEY\n",
    "\n",
    "Las claves se pueden obtener en:\n",
    "- OpenAI: https://platform.openai.com/api-keys\n",
    "- Anthropic: https://console.anthropic.com/"
   ]
  },
  {
   "cell_type": "code",
   "execution_count": null,
   "metadata": {
    "vscode": {
     "languageId": "shellscript"
    }
   },
   "outputs": [],
   "source": [
    "pip install openai anthropic"
   ]
  },
  {
   "cell_type": "markdown",
   "metadata": {},
   "source": [
    "## Ejemplo básico con OpenAI (GPT)\n",
    "\n",
    "En este ejemplo se muestra cómo usar la API de OpenAI para generar texto.\n",
    "Se configura un cliente con una API key y se hace una consulta simple al modelo,\n",
    "especificando parámetros como:\n",
    "- El modelo de GPT a usar\n",
    "- El prompt o consulta\n",
    "- Configuraciones opcionales como temperatura"
   ]
  },
  {
   "cell_type": "code",
   "execution_count": null,
   "metadata": {},
   "outputs": [],
   "source": [
    "from openai import OpenAI\n",
    "\n",
    "# Configuración del cliente OpenAI\n",
    "client = OpenAI(api_key=\"TU_API_KEY\")\n",
    "\n",
    "# Definimos una pregunta de ejemplo\n",
    "prompt = \"¿Qué es la inteligencia artificial y cuál es su importancia en el mundo actual?\"\n",
    "\n",
    "# Definimos los mensajes que vamos a enviar al modelo\n",
    "messages = [\n",
    "    {\"role\": \"system\", \"content\": \"Sos experto en responder preguntas de IA\"},\n",
    "    {\"role\": \"user\", \"content\": \"que es la inteliencia?\"},\n",
    "]\n",
    "\n",
    "# Realización de la consulta\n",
    "response = client.chat.completions.create(\n",
    "    model=\"gpt-4o\",  # Podes cambiar al modelo que prefieras\n",
    "    messages=messages\n",
    ")\n",
    "\n",
    "print(response.choices[0].message.content)"
   ]
  },
  {
   "cell_type": "markdown",
   "metadata": {},
   "source": [
    "## Ejemplo básico con Anthropic (Claude)\n",
    "\n",
    "En este ejemplo se muestra cómo usar la API de Anthropic para generar texto.\n",
    "Se configura un cliente con una API key y se hace una consulta simple al modelo,\n",
    "especificando parámetros como:\n",
    "- El modelo de Claude a usar\n",
    "- El prompt o consulta\n",
    "- Configuraciones opcionales como tokens máximos"
   ]
  },
  {
   "cell_type": "code",
   "execution_count": null,
   "metadata": {},
   "outputs": [],
   "source": [
    "import anthropic\n",
    "\n",
    "# Configuración del cliente Anthropic\n",
    "client = anthropic.Anthropic(api_key=\"TU_API_KEY\")\n",
    "\n",
    "# Definimos una pregunta de ejemplo\n",
    "prompt = \"¿Qué es la inteligencia artificial y cuál es su importancia en el mundo actual?\"\n",
    "\n",
    "# Definimos los mensajes que vamos a enviar al modelo\n",
    "messages = [\n",
    "    {\"role\": \"user\", \"content\": prompt}\n",
    "]\n",
    "\n",
    "# Realización de la consulta\n",
    "message = client.messages.create(\n",
    "    model=\"claude-3-5-sonnet-20241022\",  # Podes cambiar al modelo que prefieras\n",
    "    max_tokens=1000,\n",
    "    messages=messages\n",
    ")\n",
    "\n",
    "print(message.content)"
   ]
  }
 ],
 "metadata": {
  "language_info": {
   "name": "python"
  }
 },
 "nbformat": 4,
 "nbformat_minor": 2
}
